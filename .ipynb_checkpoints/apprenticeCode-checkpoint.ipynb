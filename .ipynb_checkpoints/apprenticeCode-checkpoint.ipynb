{
 "cells": [
  {
   "cell_type": "code",
   "execution_count": 1,
   "id": "71fde445-7f9e-44b2-bb58-ab0841919490",
   "metadata": {},
   "outputs": [],
   "source": [
    "from sage.matroids.advanced import *\n",
    "from sage.matroids.circuits_matroid import CircuitsMatroid\n",
    "\n",
    "def diagonal_dilworth_truncation(M1,M2):\n",
    "    E = Set(M1.groundset())\n",
    "    possible_circuits = list(E.subsets())[1:]\n",
    "    res = []\n",
    "    for C in possible_circuits:\n",
    "        if M1.rank(C) + M2.rank(C) == len(C):\n",
    "            res.append(C)\n",
    "    return Matroid(groundset=E,circuits=res)\n",
    "\n",
    "def dilworth_truncation(M):\n",
    "    E = Set(M.flats(2))\n",
    "    possible_fl = list(E.subsets())[1:]\n",
    "    res = []\n",
    "    for C in possible_circuits:\n",
    "        u = Set()\n",
    "        for c in C:\n",
    "            u = u.union(Set(c))\n",
    "        if M.rank(u) == len(C):\n",
    "            res.append(C)\n",
    "    return Matroid(groundset=E,circuits=res)"
   ]
  },
  {
   "cell_type": "code",
   "execution_count": 130,
   "id": "5b42c778-d25f-4c37-9ed2-74eef2023142",
   "metadata": {
    "scrolled": true
   },
   "outputs": [
    {
     "name": "stdout",
     "output_type": "stream",
     "text": [
      "1296\n",
      "3660\n",
      "5700\n",
      "6165\n",
      "4945\n",
      "2997\n",
      "1365\n",
      "455\n"
     ]
    }
   ],
   "source": [
    "M1 = matroids.CompleteGraphic(6)\n",
    "n = len(M1.groundset())\n",
    "r = M1.rank()\n",
    "for i in range(1,n-r-1):\n",
    "    M2 = matroids.Uniform(i,n)\n",
    "    ddt = diagonal_dilworth_truncation(M1,M2)\n",
    "    print(len(ddt.bases()))"
   ]
  },
  {
   "cell_type": "code",
   "execution_count": 138,
   "id": "a99866f6-88ef-44fa-bb11-33adbfee1f17",
   "metadata": {},
   "outputs": [
    {
     "name": "stdout",
     "output_type": "stream",
     "text": [
      "77520\n",
      "125970\n",
      "167960\n",
      "184756\n",
      "167960\n",
      "125970\n",
      "77520\n",
      "38760\n",
      "15504\n",
      "4845\n",
      "1140\n"
     ]
    }
   ],
   "source": [
    "# https://oeis.org/search?q=77520+125970+167960+184756+167960+125970&go=Search\n",
    "n = 20\n",
    "r = 7\n",
    "M1 = matroids.Uniform(r,n)\n",
    "for i in range(1,n-r-1):\n",
    "    M2 = matroids.Uniform(i,n)\n",
    "    ddt = diagonal_dilworth_truncation(M1,M2)\n",
    "    print(len(ddt.bases()))"
   ]
  },
  {
   "cell_type": "code",
   "execution_count": 6,
   "id": "ccd1c22c-ae91-4bc0-b60c-cfeba3763382",
   "metadata": {},
   "outputs": [
    {
     "name": "stdout",
     "output_type": "stream",
     "text": [
      "6\n",
      "100\n",
      "3355\n",
      "190491\n"
     ]
    },
    {
     "ename": "KeyboardInterrupt",
     "evalue": "",
     "output_type": "error",
     "traceback": [
      "\u001b[0;31m---------------------------------------------------------------------------\u001b[0m",
      "\u001b[0;31mKeyboardInterrupt\u001b[0m                         Traceback (most recent call last)",
      "    \u001b[0;31m[... skipping hidden 1 frame]\u001b[0m\n",
      "Cell \u001b[0;32mIn[6], line 3\u001b[0m\n\u001b[1;32m      2\u001b[0m M \u001b[38;5;241m=\u001b[39m matroids\u001b[38;5;241m.\u001b[39mCompleteGraphic(i)\n\u001b[0;32m----> 3\u001b[0m ddt \u001b[38;5;241m=\u001b[39m \u001b[43mdiagonal_dilworth_truncation\u001b[49m\u001b[43m(\u001b[49m\u001b[43mM\u001b[49m\u001b[43m,\u001b[49m\u001b[43mM\u001b[49m\u001b[43m)\u001b[49m\n\u001b[1;32m      4\u001b[0m \u001b[38;5;28mprint\u001b[39m(\u001b[38;5;28mlen\u001b[39m(ddt\u001b[38;5;241m.\u001b[39mbases()))\n",
      "Cell \u001b[0;32mIn[1], line 6\u001b[0m, in \u001b[0;36mdiagonal_dilworth_truncation\u001b[0;34m(M1, M2)\u001b[0m\n\u001b[1;32m      5\u001b[0m E \u001b[38;5;241m=\u001b[39m Set(M1\u001b[38;5;241m.\u001b[39mgroundset())\n\u001b[0;32m----> 6\u001b[0m possible_circuits \u001b[38;5;241m=\u001b[39m \u001b[38;5;28;43mlist\u001b[39;49m\u001b[43m(\u001b[49m\u001b[43mE\u001b[49m\u001b[38;5;241;43m.\u001b[39;49m\u001b[43msubsets\u001b[49m\u001b[43m(\u001b[49m\u001b[43m)\u001b[49m\u001b[43m)\u001b[49m[Integer(\u001b[38;5;241m1\u001b[39m):]\n\u001b[1;32m      7\u001b[0m res \u001b[38;5;241m=\u001b[39m []\n",
      "File \u001b[0;32m~/miniforge3/envs/sage/lib/python3.12/site-packages/sage/combinat/subset.py:403\u001b[0m, in \u001b[0;36mSubsets_s.__iter__\u001b[0;34m(self)\u001b[0m\n\u001b[1;32m    402\u001b[0m \u001b[38;5;28;01mfor\u001b[39;00m ss \u001b[38;5;129;01min\u001b[39;00m Subsets_sk(\u001b[38;5;28mself\u001b[39m\u001b[38;5;241m.\u001b[39m_s, k)\u001b[38;5;241m.\u001b[39m_fast_iterator():\n\u001b[0;32m--> 403\u001b[0m     \u001b[38;5;28;01myield\u001b[39;00m \u001b[38;5;28;43mself\u001b[39;49m\u001b[38;5;241;43m.\u001b[39;49m\u001b[43melement_class\u001b[49m\u001b[43m(\u001b[49m\u001b[43mss\u001b[49m\u001b[43m)\u001b[49m\n\u001b[1;32m    404\u001b[0m k \u001b[38;5;241m+\u001b[39m\u001b[38;5;241m=\u001b[39m \u001b[38;5;241m1\u001b[39m\n",
      "File \u001b[0;32m~/miniforge3/envs/sage/lib/python3.12/site-packages/sage/sets/set.py:869\u001b[0m, in \u001b[0;36mSet_object_enumerated.__init__\u001b[0;34m(self, X, category)\u001b[0m\n\u001b[1;32m    856\u001b[0m \u001b[38;5;250m\u001b[39m\u001b[38;5;124mr\u001b[39m\u001b[38;5;124;03m\"\"\"\u001b[39;00m\n\u001b[1;32m    857\u001b[0m \u001b[38;5;124;03mInitialize ``self``.\u001b[39;00m\n\u001b[1;32m    858\u001b[0m \n\u001b[0;32m   (...)\u001b[0m\n\u001b[1;32m    867\u001b[0m \u001b[38;5;124;03m    sage: TestSuite(S).run()\u001b[39;00m\n\u001b[1;32m    868\u001b[0m \u001b[38;5;124;03m\"\"\"\u001b[39;00m\n\u001b[0;32m--> 869\u001b[0m \u001b[43mSet_object\u001b[49m\u001b[38;5;241;43m.\u001b[39;49m\u001b[38;5;21;43m__init__\u001b[39;49m\u001b[43m(\u001b[49m\u001b[38;5;28;43mself\u001b[39;49m\u001b[43m,\u001b[49m\u001b[43m \u001b[49m\u001b[43mX\u001b[49m\u001b[43m,\u001b[49m\u001b[43m \u001b[49m\u001b[43mcategory\u001b[49m\u001b[38;5;241;43m=\u001b[39;49m\u001b[43mFiniteEnumeratedSets\u001b[49m\u001b[43m(\u001b[49m\u001b[43m)\u001b[49m\u001b[38;5;241;43m.\u001b[39;49m\u001b[43mor_subcategory\u001b[49m\u001b[43m(\u001b[49m\u001b[43mcategory\u001b[49m\u001b[43m)\u001b[49m\u001b[43m)\u001b[49m\n",
      "File \u001b[0;32m~/miniforge3/envs/sage/lib/python3.12/site-packages/sage/sets/set.py:510\u001b[0m, in \u001b[0;36mSet_object.__init__\u001b[0;34m(self, X, category)\u001b[0m\n\u001b[1;32m    508\u001b[0m         category \u001b[38;5;241m=\u001b[39m category\u001b[38;5;241m.\u001b[39mEnumerated()\n\u001b[0;32m--> 510\u001b[0m \u001b[43mParent\u001b[49m\u001b[38;5;241;43m.\u001b[39;49m\u001b[38;5;21;43m__init__\u001b[39;49m\u001b[43m(\u001b[49m\u001b[38;5;28;43mself\u001b[39;49m\u001b[43m,\u001b[49m\u001b[43m \u001b[49m\u001b[43mcategory\u001b[49m\u001b[38;5;241;43m=\u001b[39;49m\u001b[43mcategory\u001b[49m\u001b[43m)\u001b[49m\n\u001b[1;32m    511\u001b[0m \u001b[38;5;28mself\u001b[39m\u001b[38;5;241m.\u001b[39m__object \u001b[38;5;241m=\u001b[39m X\n",
      "File \u001b[0;32m~/miniforge3/envs/sage/lib/python3.12/site-packages/sage/structure/parent.pyx:301\u001b[0m, in \u001b[0;36msage.structure.parent.Parent.__init__ (build/cythonized/sage/structure/parent.c:7656)\u001b[0;34m()\u001b[0m\n\u001b[1;32m    300\u001b[0m \n\u001b[0;32m--> 301\u001b[0m         CategoryObject.__init__(self, category, base)\n\u001b[1;32m    302\u001b[0m \n",
      "File \u001b[0;32m~/miniforge3/envs/sage/lib/python3.12/site-packages/sage/structure/category_object.pyx:116\u001b[0m, in \u001b[0;36msage.structure.category_object.CategoryObject.__init__ (build/cythonized/sage/structure/category_object.c:3636)\u001b[0;34m()\u001b[0m\n\u001b[1;32m    115\u001b[0m if category is not None:\n\u001b[0;32m--> 116\u001b[0m     self._init_category_(category)\n\u001b[1;32m    117\u001b[0m \n",
      "File \u001b[0;32m~/miniforge3/envs/sage/lib/python3.12/site-packages/sage/structure/parent.pyx:344\u001b[0m, in \u001b[0;36msage.structure.parent.Parent._init_category_ (build/cythonized/sage/structure/parent.c:8196)\u001b[0;34m()\u001b[0m\n\u001b[1;32m    343\u001b[0m # Documentation transfer is handled by dynamic_class\n\u001b[0;32m--> 344\u001b[0m self.__class__ = dynamic_class(\n\u001b[1;32m    345\u001b[0m     f\"{type(self).__name__}_with_category\",\n",
      "File \u001b[0;32m~/miniforge3/envs/sage/lib/python3.12/site-packages/sage/structure/dynamic_class.py:129\u001b[0m, in \u001b[0;36mdynamic_class\u001b[0;34m(name, bases, cls, reduction, doccls, prepend_cls_bases, cache)\u001b[0m\n\u001b[1;32m    126\u001b[0m \u001b[38;5;28;01mfrom\u001b[39;00m \u001b[38;5;21;01msage\u001b[39;00m\u001b[38;5;21;01m.\u001b[39;00m\u001b[38;5;21;01mmisc\u001b[39;00m\u001b[38;5;21;01m.\u001b[39;00m\u001b[38;5;21;01minherit_comparison\u001b[39;00m \u001b[38;5;28;01mimport\u001b[39;00m InheritComparisonMetaclass, InheritComparisonClasscallMetaclass\n\u001b[0;32m--> 129\u001b[0m \u001b[38;5;28;01mdef\u001b[39;00m \u001b[38;5;21mdynamic_class\u001b[39m(name, bases, \u001b[38;5;28mcls\u001b[39m\u001b[38;5;241m=\u001b[39m\u001b[38;5;28;01mNone\u001b[39;00m, reduction\u001b[38;5;241m=\u001b[39m\u001b[38;5;28;01mNone\u001b[39;00m, doccls\u001b[38;5;241m=\u001b[39m\u001b[38;5;28;01mNone\u001b[39;00m,\n\u001b[1;32m    130\u001b[0m                   prepend_cls_bases\u001b[38;5;241m=\u001b[39m\u001b[38;5;28;01mTrue\u001b[39;00m, cache\u001b[38;5;241m=\u001b[39m\u001b[38;5;28;01mTrue\u001b[39;00m):\n\u001b[1;32m    131\u001b[0m \u001b[38;5;250m    \u001b[39m\u001b[38;5;124mr\u001b[39m\u001b[38;5;124;03m\"\"\"\u001b[39;00m\n\u001b[1;32m    132\u001b[0m \u001b[38;5;124;03m    INPUT:\u001b[39;00m\n\u001b[1;32m    133\u001b[0m \n\u001b[0;32m   (...)\u001b[0m\n\u001b[1;32m    318\u001b[0m \u001b[38;5;124;03m        True\u001b[39;00m\n\u001b[1;32m    319\u001b[0m \u001b[38;5;124;03m    \"\"\"\u001b[39;00m\n",
      "File \u001b[0;32msrc/cysignals/signals.pyx:310\u001b[0m, in \u001b[0;36mcysignals.signals.python_check_interrupt\u001b[0;34m()\u001b[0m\n",
      "\u001b[0;31mKeyboardInterrupt\u001b[0m: ",
      "\nDuring handling of the above exception, another exception occurred:\n",
      "\u001b[0;31mKeyboardInterrupt\u001b[0m                         Traceback (most recent call last)",
      "    \u001b[0;31m[... skipping hidden 1 frame]\u001b[0m\n",
      "File \u001b[0;32msrc/cysignals/signals.pyx:310\u001b[0m, in \u001b[0;36mcysignals.signals.python_check_interrupt\u001b[0;34m()\u001b[0m\n",
      "\u001b[0;31mKeyboardInterrupt\u001b[0m: "
     ]
    }
   ],
   "source": [
    "# no hit\n",
    "\n",
    "for i in range(4,11):\n",
    "    M = matroids.CompleteGraphic(i)\n",
    "    ddt = diagonal_dilworth_truncation(M,M)\n",
    "    print(len(ddt.bases()))"
   ]
  },
  {
   "cell_type": "code",
   "execution_count": null,
   "id": "53cd44df-d23a-4b7f-9538-9d0259fc02b1",
   "metadata": {},
   "outputs": [],
   "source": []
  }
 ],
 "metadata": {
  "kernelspec": {
   "display_name": "SageMath 10.4",
   "language": "sage",
   "name": "sagemath"
  },
  "language_info": {
   "codemirror_mode": {
    "name": "ipython",
    "version": 3
   },
   "file_extension": ".py",
   "mimetype": "text/x-python",
   "name": "python",
   "nbconvert_exporter": "python",
   "pygments_lexer": "ipython3",
   "version": "3.12.7"
  }
 },
 "nbformat": 4,
 "nbformat_minor": 5
}
