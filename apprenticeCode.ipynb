{
 "cells": [
  {
   "cell_type": "code",
   "execution_count": 127,
   "id": "71fde445-7f9e-44b2-bb58-ab0841919490",
   "metadata": {},
   "outputs": [],
   "source": [
    "from sage.matroids.advanced import *\n",
    "from sage.matroids.circuits_matroid import CircuitsMatroid\n",
    "\n",
    "def diagonal_dilworth_truncation(M1,M2):\n",
    "    E = Set(M1.groundset())\n",
    "    possible_circuits = list(E.subsets())[1:]\n",
    "    res = []\n",
    "    for C in possible_circuits:\n",
    "        if M1.rank(C) + M2.rank(C) == len(C):\n",
    "            res.append(C)\n",
    "    return Matroid(groundset=E,circuits=res)\n",
    "\n",
    "def dilworth_truncation(M):\n",
    "    E = Set(M.flats(2))\n",
    "    possible_fl = list(E.subsets())[1:]\n",
    "    res = []\n",
    "    for C in possible_circuits:\n",
    "        u = Set()\n",
    "        for c in C:\n",
    "            u = u.union(Set(c))\n",
    "        if M.rank(u) == len(C):\n",
    "            res.append(C)\n",
    "    return Matroid(groundset=E,circuits=res)"
   ]
  },
  {
   "cell_type": "code",
   "execution_count": 130,
   "id": "5b42c778-d25f-4c37-9ed2-74eef2023142",
   "metadata": {
    "scrolled": true
   },
   "outputs": [
    {
     "name": "stdout",
     "output_type": "stream",
     "text": [
      "1296\n",
      "3660\n",
      "5700\n",
      "6165\n",
      "4945\n",
      "2997\n",
      "1365\n",
      "455\n"
     ]
    }
   ],
   "source": [
    "M1 = matroids.CompleteGraphic(6)\n",
    "n = len(M1.groundset())\n",
    "r = M1.rank()\n",
    "for i in range(1,n-r-1):\n",
    "    M2 = matroids.Uniform(i,n)\n",
    "    ddt = diagonal_dilworth_truncation(M1,M2)\n",
    "    print(len(ddt.bases()))"
   ]
  },
  {
   "cell_type": "code",
   "execution_count": 138,
   "id": "a99866f6-88ef-44fa-bb11-33adbfee1f17",
   "metadata": {},
   "outputs": [
    {
     "name": "stdout",
     "output_type": "stream",
     "text": [
      "77520\n",
      "125970\n",
      "167960\n",
      "184756\n",
      "167960\n",
      "125970\n",
      "77520\n",
      "38760\n",
      "15504\n",
      "4845\n",
      "1140\n"
     ]
    }
   ],
   "source": [
    "# https://oeis.org/search?q=77520+125970+167960+184756+167960+125970&go=Search\n",
    "n = 20\n",
    "r = 7\n",
    "M1 = matroids.Uniform(r,n)\n",
    "for i in range(1,n-r-1):\n",
    "    M2 = matroids.Uniform(i,n)\n",
    "    ddt = diagonal_dilworth_truncation(M1,M2)\n",
    "    print(len(ddt.bases()))"
   ]
  },
  {
   "cell_type": "code",
   "execution_count": null,
   "id": "ccd1c22c-ae91-4bc0-b60c-cfeba3763382",
   "metadata": {},
   "outputs": [],
   "source": []
  }
 ],
 "metadata": {
  "kernelspec": {
   "display_name": "SageMath 10.4",
   "language": "sage",
   "name": "sagemath"
  },
  "language_info": {
   "codemirror_mode": {
    "name": "ipython",
    "version": 3
   },
   "file_extension": ".py",
   "mimetype": "text/x-python",
   "name": "python",
   "nbconvert_exporter": "python",
   "pygments_lexer": "ipython3",
   "version": "3.12.7"
  }
 },
 "nbformat": 4,
 "nbformat_minor": 5
}
